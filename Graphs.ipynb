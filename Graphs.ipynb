{
 "cells": [
  {
   "cell_type": "markdown",
   "id": "cb9c4858-c1cc-419e-b493-94623895e198",
   "metadata": {},
   "source": [
    "# Graphs\n",
    "\n",
    "Hashmaps\n",
    "\n",
    "\n",
    "<img src=\"https://static.packt-cdn.com/products/9781788995573/graphics/assets/16b1ee37-e5b6-4d4e-951c-7dfd2bcf24ba.png\" alt=\"Graph\" width=\"200\"/>\n",
    "\n",
    "\n",
    "## Adjacency List\n",
    "\n"
   ]
  },
  {
   "cell_type": "code",
   "execution_count": 13,
   "id": "0880e0ee-3f6a-4b7d-b3b3-6134d1733ecd",
   "metadata": {},
   "outputs": [],
   "source": [
    "graph = {}\n",
    "no_v = 0\n",
    "def add_v(v):\n",
    "    global graph\n",
    "    global no_v\n",
    "    if v in graph:\n",
    "        print(\"Already Exists\")\n",
    "    else:\n",
    "        graph[v] = []\n",
    "        no_v += 1\n",
    "        print(\"Added\")\n",
    "\n",
    "def add_e(v1,v2, w):\n",
    "    if v1 and v2 not in graph:\n",
    "        print(\"Vertices Error\")\n",
    "    else:\n",
    "        graph[v1].append([v2, w])\n",
    "\n"
   ]
  },
  {
   "cell_type": "code",
   "execution_count": 14,
   "id": "f7993b9e",
   "metadata": {},
   "outputs": [
    {
     "name": "stdout",
     "output_type": "stream",
     "text": [
      "Added\n",
      "Added\n"
     ]
    }
   ],
   "source": [
    "add_v(1)\n",
    "add_v(2)"
   ]
  },
  {
   "cell_type": "code",
   "execution_count": 16,
   "id": "0476f208",
   "metadata": {},
   "outputs": [],
   "source": [
    "add_e(1,2,5)"
   ]
  },
  {
   "cell_type": "code",
   "execution_count": 17,
   "id": "443979fc",
   "metadata": {},
   "outputs": [
    {
     "data": {
      "text/plain": [
       "{1: [[2, 5]], 2: []}"
      ]
     },
     "execution_count": 17,
     "metadata": {},
     "output_type": "execute_result"
    }
   ],
   "source": [
    "graph"
   ]
  },
  {
   "cell_type": "markdown",
   "id": "88f1a387-41ce-4b0e-8678-73442c4d13e0",
   "metadata": {},
   "source": [
    "## Adjacency matrix"
   ]
  },
  {
   "cell_type": "code",
   "execution_count": null,
   "id": "5f2af425",
   "metadata": {},
   "outputs": [],
   "source": [
    "graph = {}\n",
    "no_v = 0\n",
    "vertices = [] \n",
    "def add_v(v):\n",
    "    global vertices\n",
    "    global graph\n",
    "    global no_v\n",
    "\n",
    "    if v in graph:\n",
    "        print(\"Already E\")\n",
    "    else:\n",
    "        no_v += 1\n",
    "        vertices.append(v)\n",
    "        \n"
   ]
  }
 ],
 "metadata": {
  "interpreter": {
   "hash": "44aac8fa55270aab16cf28b0bf1e5c8bf3de462e9a8a50d0b321a892ef2c99fa"
  },
  "kernelspec": {
   "display_name": "Python 3",
   "language": "python",
   "name": "python3"
  },
  "language_info": {
   "codemirror_mode": {
    "name": "ipython",
    "version": 3
   },
   "file_extension": ".py",
   "mimetype": "text/x-python",
   "name": "python",
   "nbconvert_exporter": "python",
   "pygments_lexer": "ipython3",
   "version": "3.8.8"
  }
 },
 "nbformat": 4,
 "nbformat_minor": 5
}
