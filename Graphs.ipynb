{
 "cells": [
  {
   "cell_type": "markdown",
   "id": "cb9c4858-c1cc-419e-b493-94623895e198",
   "metadata": {},
   "source": [
    "# Graphs\n",
    "\n",
    "Hashmaps\n",
    "\n",
    "\n",
    "<img src=\"https://static.packt-cdn.com/products/9781788995573/graphics/assets/16b1ee37-e5b6-4d4e-951c-7dfd2bcf24ba.png\" alt=\"Graph\" width=\"200\"/>\n",
    "\n",
    "\n",
    "## Adjacency List\n",
    "\n"
   ]
  },
  {
   "cell_type": "code",
   "execution_count": 3,
   "id": "f6ef6252-4638-47a6-8e0c-238b3cbbd166",
   "metadata": {},
   "outputs": [],
   "source": [
    "# Add a vertex to the dictionary\n",
    "def add_vertex(v):\n",
    "    global graph\n",
    "    global vertices_no\n",
    "    if v in graph:\n",
    "        print(\"Vertex \", v, \" already exists.\")\n",
    "    else:\n",
    "        vertices_no = vertices_no + 1\n",
    "        graph[v] = []"
   ]
  },
  {
   "cell_type": "code",
   "execution_count": 44,
   "id": "dcdb4ef2-6699-45d4-8c60-091c25ec6a5d",
   "metadata": {},
   "outputs": [],
   "source": [
    "# Add an edge between vertex v1 and v2 with edge weight e\n",
    "def add_edge(v1, v2, e):\n",
    "    global graph\n",
    "  # Check if vertex v1 is a valid vertex\n",
    "    if v1 not in graph:\n",
    "        print(\"Vertex \", v1, \" does not exist.\")\n",
    "  # Check if vertex v2 is a valid vertex\n",
    "    elif v2 not in graph:\n",
    "        print(\"Vertex \", v2, \" does not exist.\")\n",
    "    elif [v2,e] in graph[v1]:\n",
    "        print(\"Edge exits\")\n",
    "    else:\n",
    "        temp = [v2, e]\n",
    "        graph[v1].append(temp)"
   ]
  },
  {
   "cell_type": "code",
   "execution_count": 45,
   "id": "670b0a73-ab93-4e1a-a246-e43b99f68494",
   "metadata": {},
   "outputs": [],
   "source": [
    "# Print the graph\n",
    "def print_graph():\n",
    "    global graph\n",
    "    for vertex in graph:\n",
    "        for edges in graph[vertex]:\n",
    "              print(vertex, \" -> \", edges[0], \" edge weight: \", edges[1])"
   ]
  },
  {
   "cell_type": "code",
   "execution_count": 46,
   "id": "c5cd1c4b-4efd-4c1b-822a-afb94fede320",
   "metadata": {},
   "outputs": [],
   "source": [
    "graph = {}\n",
    "vertices_no = 0"
   ]
  },
  {
   "cell_type": "code",
   "execution_count": 53,
   "id": "8877c9c1-1d68-44af-a6c0-c062a1c670a6",
   "metadata": {},
   "outputs": [],
   "source": [
    "add_vertex(\"A\")\n",
    "add_vertex(\"B\")\n",
    "add_vertex(\"C\")\n",
    "add_vertex(\"D\")"
   ]
  },
  {
   "cell_type": "code",
   "execution_count": 50,
   "id": "74cb291e-ccfc-4102-be09-370e988ab427",
   "metadata": {},
   "outputs": [
    {
     "name": "stdout",
     "output_type": "stream",
     "text": [
      "Vertex  A  does not exist.\n",
      "Vertex  B  does not exist.\n",
      "Vertex  C  does not exist.\n",
      "Vertex  A  does not exist.\n",
      "Vertex  C  does not exist.\n"
     ]
    }
   ],
   "source": [
    "add_edge(\"A\", \"B\", 5)\n",
    "add_edge(\"B\", \"C\", 10)\n",
    "add_edge(\"C\", \"D\", 10)\n",
    "add_edge(\"A\", \"D\", 40)\n",
    "add_edge(\"C\", \"B\", 10)"
   ]
  },
  {
   "cell_type": "code",
   "execution_count": 51,
   "id": "5ab4eca2-1b55-4494-bc12-4160856469a6",
   "metadata": {},
   "outputs": [],
   "source": [
    "print_graph()"
   ]
  },
  {
   "cell_type": "code",
   "execution_count": 52,
   "id": "e5f0145c-71e1-4536-8892-72157efc2f3c",
   "metadata": {},
   "outputs": [
    {
     "data": {
      "text/plain": [
       "{}"
      ]
     },
     "execution_count": 52,
     "metadata": {},
     "output_type": "execute_result"
    }
   ],
   "source": [
    "graph"
   ]
  },
  {
   "cell_type": "code",
   "execution_count": 21,
   "id": "2fe877fd-87ce-43c5-b592-7c02c8a36a6a",
   "metadata": {},
   "outputs": [
    {
     "data": {
      "text/plain": [
       "4"
      ]
     },
     "execution_count": 21,
     "metadata": {},
     "output_type": "execute_result"
    }
   ],
   "source": [
    "vertices_no"
   ]
  },
  {
   "cell_type": "markdown",
   "id": "88f1a387-41ce-4b0e-8678-73442c4d13e0",
   "metadata": {},
   "source": [
    "## Adjacency matrix"
   ]
  },
  {
   "cell_type": "markdown",
   "id": "ad8c2289-4123-4440-9062-b5fac9c3da7b",
   "metadata": {},
   "source": [
    "> add_vertex(v) adds new vertex v to the graph, and add_edge(v1, v2, e) adds an edge with weight e between vertices v1 and v2\n",
    "\n",
    "Example : \n",
    "\n",
    "vertices : [A,B,C,D]\n",
    "adj_matrix : [[0,5,0,40], [], [], []]"
   ]
  },
  {
   "cell_type": "code",
   "execution_count": 23,
   "id": "9914926f-80ef-40b3-b03a-b80e66e06890",
   "metadata": {},
   "outputs": [],
   "source": [
    "def add_vertex(v):\n",
    "    global graph\n",
    "    global v_no\n",
    "    global vertices"
   ]
  },
  {
   "cell_type": "code",
   "execution_count": null,
   "id": "92b20f89-aeb3-4ff1-b632-fda8977e5b1a",
   "metadata": {},
   "outputs": [],
   "source": []
  }
 ],
 "metadata": {
  "kernelspec": {
   "display_name": "Python 3",
   "language": "python",
   "name": "python3"
  },
  "language_info": {
   "codemirror_mode": {
    "name": "ipython",
    "version": 3
   },
   "file_extension": ".py",
   "mimetype": "text/x-python",
   "name": "python",
   "nbconvert_exporter": "python",
   "pygments_lexer": "ipython3",
   "version": "3.8.8"
  }
 },
 "nbformat": 4,
 "nbformat_minor": 5
}
