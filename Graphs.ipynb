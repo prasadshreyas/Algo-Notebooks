{
 "cells": [
  {
   "cell_type": "markdown",
   "id": "cb9c4858-c1cc-419e-b493-94623895e198",
   "metadata": {},
   "source": [
    "# Graphs\n",
    "\n",
    "Hashmaps\n",
    "\n",
    "\n",
    "<img src=\"https://static.packt-cdn.com/products/9781788995573/graphics/assets/16b1ee37-e5b6-4d4e-951c-7dfd2bcf24ba.png\" alt=\"Graph\" width=\"200\"/>\n",
    "\n",
    "\n",
    "## Adjacency List\n",
    "\n"
   ]
  },
  {
   "cell_type": "code",
   "execution_count": null,
   "id": "0880e0ee-3f6a-4b7d-b3b3-6134d1733ecd",
   "metadata": {},
   "outputs": [],
   "source": [
    "def add_v(v):\n",
    "    global graph = {}\n",
    "    global no_v = 0\n",
    "    if v in graph:\n",
    "        print(\"\")\n",
    "    "
   ]
  },
  {
   "cell_type": "markdown",
   "id": "88f1a387-41ce-4b0e-8678-73442c4d13e0",
   "metadata": {},
   "source": [
    "## Adjacency matrix"
   ]
  }
 ],
 "metadata": {
  "kernelspec": {
   "display_name": "Python 3",
   "language": "python",
   "name": "python3"
  },
  "language_info": {
   "codemirror_mode": {
    "name": "ipython",
    "version": 3
   },
   "file_extension": ".py",
   "mimetype": "text/x-python",
   "name": "python",
   "nbconvert_exporter": "python",
   "pygments_lexer": "ipython3",
   "version": "3.8.8"
  }
 },
 "nbformat": 4,
 "nbformat_minor": 5
}
