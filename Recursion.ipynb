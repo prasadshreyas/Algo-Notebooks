{
 "cells": [
  {
   "cell_type": "markdown",
   "metadata": {},
   "source": [
    "# Recursion - DP\n",
    "\n",
    "## 1. Euclidean Algorithm\n",
    "\n",
    "### if $a = bq + c$, then $GCD(a,b) = GCD(b,r)$"
   ]
  },
  {
   "cell_type": "code",
   "execution_count": 12,
   "metadata": {},
   "outputs": [],
   "source": [
    "def gcd(a,b):\n",
    "    if a%b == 0:\n",
    "        return b\n",
    "    else:\n",
    "        return gcd(b,a%b)"
   ]
  },
  {
   "cell_type": "code",
   "execution_count": 13,
   "metadata": {},
   "outputs": [
    {
     "data": {
      "text/plain": [
       "1"
      ]
     },
     "execution_count": 13,
     "metadata": {},
     "output_type": "execute_result"
    }
   ],
   "source": [
    "gcd(10,3)"
   ]
  },
  {
   "cell_type": "markdown",
   "metadata": {},
   "source": [
    "### Sum of an array using recursive"
   ]
  },
  {
   "cell_type": "code",
   "execution_count": 19,
   "metadata": {},
   "outputs": [],
   "source": [
    "def arr_sum(a, N):\n",
    "    if N == 1:\n",
    "        return a[0]\n",
    "    else:\n",
    "        return a[0] + arr_sum(a[1:], len(a[1:]))  "
   ]
  },
  {
   "cell_type": "code",
   "execution_count": 20,
   "metadata": {},
   "outputs": [
    {
     "data": {
      "text/plain": [
       "6"
      ]
     },
     "execution_count": 20,
     "metadata": {},
     "output_type": "execute_result"
    }
   ],
   "source": [
    "arr_sum([1,2,3], len([1,2,3]))"
   ]
  },
  {
   "cell_type": "markdown",
   "metadata": {},
   "source": [
    "### Max of an array"
   ]
  },
  {
   "cell_type": "code",
   "execution_count": 11,
   "metadata": {},
   "outputs": [],
   "source": [
    "def arr_max(l):\n",
    "    if len(l) == 1:\n",
    "        #print(l[0])\n",
    "        return l[0]\n",
    "    else:\n",
    "        #print(l[1:])\n",
    "        m =  arr_max(l[1:])\n",
    "        #print(\"max\",m )\n",
    "        return m if m > l[0] else l[0]"
   ]
  },
  {
   "cell_type": "code",
   "execution_count": 12,
   "metadata": {},
   "outputs": [
    {
     "data": {
      "text/plain": [
       "6"
      ]
     },
     "execution_count": 12,
     "metadata": {},
     "output_type": "execute_result"
    }
   ],
   "source": [
    "arr_max([6,1,3,2])"
   ]
  },
  {
   "cell_type": "markdown",
   "metadata": {},
   "source": [
    "### Binary search"
   ]
  },
  {
   "cell_type": "code",
   "execution_count": 63,
   "metadata": {},
   "outputs": [],
   "source": [
    "def bin(arr, ele ):\n",
    "    mid = (len(arr)-1)//2\n",
    "\n",
    "    if arr[mid]== ele:\n",
    "        return mid\n",
    "    elif ele < arr[mid]:\n",
    "        return bin(arr[:mid - 1], ele)\n",
    "    else:\n",
    "        return bin(arr[mid+1:],ele)\n",
    "\n"
   ]
  },
  {
   "cell_type": "code",
   "execution_count": 64,
   "metadata": {},
   "outputs": [
    {
     "data": {
      "text/plain": [
       "0"
      ]
     },
     "execution_count": 64,
     "metadata": {},
     "output_type": "execute_result"
    }
   ],
   "source": [
    "bin([x for x in range(0,100)],14)"
   ]
  },
  {
   "cell_type": "markdown",
   "metadata": {},
   "source": []
  },
  {
   "cell_type": "code",
   "execution_count": 49,
   "metadata": {},
   "outputs": [
    {
     "data": {
      "text/plain": [
       "2"
      ]
     },
     "execution_count": 49,
     "metadata": {},
     "output_type": "execute_result"
    }
   ],
   "source": [
    "5//2"
   ]
  },
  {
   "cell_type": "markdown",
   "metadata": {},
   "source": [
    "# Fibonacci\n",
    "\n",
    "Run time : \n",
    "Overall Upper bound : \n",
    "### $O(2^n)$ <br>\n",
    "The Tight Upper bound : \n",
    "\n",
    "### $O(1.618^n)$\n",
    "aka the golden ratio"
   ]
  },
  {
   "cell_type": "code",
   "execution_count": 65,
   "metadata": {},
   "outputs": [],
   "source": [
    "def fib(n):\n",
    "    if n<=2:\n",
    "        return 1\n",
    "    return fib(n-1) + fib(n-2)\n"
   ]
  },
  {
   "cell_type": "code",
   "execution_count": 68,
   "metadata": {},
   "outputs": [
    {
     "data": {
      "text/plain": [
       "89"
      ]
     },
     "execution_count": 68,
     "metadata": {},
     "output_type": "execute_result"
    }
   ],
   "source": [
    "fib(11)"
   ]
  },
  {
   "cell_type": "markdown",
   "metadata": {},
   "source": [
    "# Fib with DP\n",
    "\n",
    "Memoization or memoisation is an optimization technique used primarily to speed up computer programs by storing the results of expensive function calls and returning the cached result when the same inputs occur again\n",
    "\n",
    "Time complexity :  \n",
    "### $O(N)$ <br>\n",
    "\n",
    "Space complexity:\n",
    "### $O(N)$ <br>\n",
    "\n"
   ]
  },
  {
   "cell_type": "code",
   "execution_count": null,
   "metadata": {},
   "outputs": [],
   "source": [
    "def fib(n,memo = {}):\n",
    "    if n in memo:\n",
    "        return memo[n]\n",
    "    if n<=2:\n",
    "        return 1\n",
    "    memo[n] = fib(n-1,memo) + fib(n-2,memo)\n",
    "    #print(memo)\n",
    "    return memo[n]\n"
   ]
  },
  {
   "cell_type": "code",
   "execution_count": null,
   "metadata": {},
   "outputs": [
    {
     "data": {
      "text/plain": [
       "55"
      ]
     },
     "metadata": {},
     "output_type": "display_data"
    }
   ],
   "source": [
    "fib(10)"
   ]
  },
  {
   "cell_type": "markdown",
   "metadata": {},
   "source": [
    "# Fib with DP (Optimised Space - Bottom up)\n",
    "As we only need the last two number to calculate the next Fibonacci sequence. With this logic in mind, we can use two variable to store the last two Fibonacci sequence.\n",
    "\n",
    "Time complexity :  \n",
    "### $O(N)$ <br>\n",
    "\n",
    "Space complexity:\n",
    "### $O(1)$ <br>"
   ]
  },
  {
   "cell_type": "code",
   "execution_count": null,
   "metadata": {},
   "outputs": [],
   "source": [
    "def fib(n):\n",
    "\n",
    "    first = 0\n",
    "    second = 0\n",
    "    for i in range(1,n+1):\n",
    "        if i==1:\n",
    "            second = 1\n",
    "        else:\n",
    "            temp = second\n",
    "            second = first + second\n",
    "            first = temp\n",
    "    return second"
   ]
  },
  {
   "cell_type": "code",
   "execution_count": null,
   "metadata": {},
   "outputs": [
    {
     "data": {
      "text/plain": [
       "55"
      ]
     },
     "metadata": {},
     "output_type": "display_data"
    }
   ],
   "source": [
    "fib(10)"
   ]
  },
  {
   "cell_type": "markdown",
   "metadata": {},
   "source": [
    "## 8.1. Triple Step: \n",
    "\n",
    "A child is running up a staircase with n steps and can hop either 1 step, 2 steps, or 3\n",
    "steps at a time. Implement a method to count how many possible ways the child can run up the\n",
    "stairs.\n",
    "\n",
    "[GeeksforGeeks](https://www.geeksforgeeks.org/count-ways-reach-nth-stair-using-step-1-2-3/)\n"
   ]
  },
  {
   "cell_type": "code",
   "execution_count": 94,
   "metadata": {},
   "outputs": [],
   "source": [
    "def countWays(n):\n",
    "    if n < 0:\n",
    "        return 0\n",
    "    elif n == 0:\n",
    "        return 1\n",
    "    else:\n",
    "        return countWays(n-1) + countWays(n-2) + countWays(n-3)\n"
   ]
  },
  {
   "cell_type": "code",
   "execution_count": 73,
   "metadata": {},
   "outputs": [
    {
     "name": "stdout",
     "output_type": "stream",
     "text": [
      "1\n",
      "2\n",
      "4\n",
      "7\n",
      "13\n",
      "24\n",
      "44\n",
      "81\n",
      "149\n"
     ]
    }
   ],
   "source": [
    "for i in range (1,10):\n",
    "    print(countWays(i))"
   ]
  },
  {
   "cell_type": "markdown",
   "metadata": {},
   "source": [
    "Roughly $O(3^n)$ : 3 branches"
   ]
  },
  {
   "cell_type": "markdown",
   "metadata": {},
   "source": [
    "With Memoization:"
   ]
  },
  {
   "cell_type": "code",
   "execution_count": 98,
   "metadata": {},
   "outputs": [],
   "source": [
    "\n",
    "def countWays(n,memo):\n",
    "    if n < 0:\n",
    "        return 0\n",
    "    elif n == 0:\n",
    "        return 1\n",
    "    elif n in memo.keys():\n",
    "        return memo[n]\n",
    "    else:\n",
    "        return countWays(n-1,memo) + countWays(n-2,memo) + countWays(n-3,memo)\n"
   ]
  },
  {
   "cell_type": "code",
   "execution_count": 99,
   "metadata": {},
   "outputs": [
    {
     "data": {
      "text/plain": [
       "8646064"
      ]
     },
     "execution_count": 99,
     "metadata": {},
     "output_type": "execute_result"
    }
   ],
   "source": [
    "countWays(27, {})"
   ]
  },
  {
   "cell_type": "markdown",
   "metadata": {},
   "source": [
    "Iteratively : "
   ]
  },
  {
   "cell_type": "code",
   "execution_count": 118,
   "metadata": {},
   "outputs": [],
   "source": [
    "def countWays(n):\n",
    "    if n<1:\n",
    "        return 0\n",
    "    res = [0] * (n + 1)\n",
    "    res[0] = 1\n",
    "    res[1] = 1\n",
    "    res[2] = 2\n",
    " \n",
    "    for i in range(3, n + 1):\n",
    "        res[i] = res[i - 1] + res[i - 2] + res[i - 3]\n",
    " \n",
    "    return res[n]"
   ]
  },
  {
   "cell_type": "code",
   "execution_count": 117,
   "metadata": {},
   "outputs": [
    {
     "data": {
      "text/plain": [
       "13"
      ]
     },
     "execution_count": 117,
     "metadata": {},
     "output_type": "execute_result"
    }
   ],
   "source": [
    "countWays(5)"
   ]
  },
  {
   "cell_type": "markdown",
   "metadata": {},
   "source": [
    "8.2 ***Robot in a Grid*** \n",
    "\n",
    "Imagine a robot sitting on the upper left corner of grid with r rows and c columns.\n",
    "The robot can only move in two directions, right and down, but certain cells are \"off limits\" such that\n",
    "the robot cannot step on them. Design an algorithm to find a path for the robot from the top left to\n",
    "the bottom right."
   ]
  },
  {
   "cell_type": "markdown",
   "metadata": {},
   "source": [
    "8.3 **Magic Index:**\n",
    " A magic index in an array A [1... n-1] is defined to be an index such that A[i] =\n",
    "i. Given a sorted array of distinct integers, write a method to find a magic index, if one exists, in\n",
    "array A.\n",
    "FOLLOW UP\n",
    "What if the values are not distinct?"
   ]
  },
  {
   "cell_type": "code",
   "execution_count": 119,
   "metadata": {},
   "outputs": [],
   "source": [
    "# Brute force\n",
    "\n",
    "def magicSlow(l):\n",
    "    for i,v in enumerate(l):\n",
    "        if i == v:\n",
    "            return v\n",
    "    return -1"
   ]
  },
  {
   "cell_type": "code",
   "execution_count": 143,
   "metadata": {},
   "outputs": [
    {
     "data": {
      "text/plain": [
       "1"
      ]
     },
     "execution_count": 143,
     "metadata": {},
     "output_type": "execute_result"
    }
   ],
   "source": [
    "import random\n",
    "magicSlow([random.randint(0,10) for i in range(10)])"
   ]
  },
  {
   "cell_type": "code",
   "execution_count": 144,
   "metadata": {},
   "outputs": [],
   "source": [
    "# Recursive \n",
    "\n",
    "def magic_index(array, min_index=0, max_index=None):\n",
    "    if max_index is None:\n",
    "        max_index = len(array) - 1\n",
    "\n",
    "    if max_index < min_index:\n",
    "        return -1\n",
    "\n",
    "    mid = (max_index + min_index) // 2\n",
    "    if array[mid] == mid:\n",
    "        return mid\n",
    "    if array[mid] < mid:\n",
    "        return magic_index(array, mid + 1, max_index)\n",
    "    if array[mid] > mid:\n",
    "        return magic_index(array, min_index, mid - 1)"
   ]
  },
  {
   "cell_type": "code",
   "execution_count": 146,
   "metadata": {},
   "outputs": [
    {
     "ename": "IndexError",
     "evalue": "list index out of range",
     "output_type": "error",
     "traceback": [
      "\u001b[0;31m---------------------------------------------------------------------------\u001b[0m",
      "\u001b[0;31mIndexError\u001b[0m                                Traceback (most recent call last)",
      "\u001b[0;32m<ipython-input-146-9d04367706ae>\u001b[0m in \u001b[0;36m<module>\u001b[0;34m\u001b[0m\n\u001b[1;32m      1\u001b[0m \u001b[0mn\u001b[0m \u001b[0;34m=\u001b[0m \u001b[0;36m100\u001b[0m\u001b[0;34m\u001b[0m\u001b[0;34m\u001b[0m\u001b[0m\n\u001b[1;32m      2\u001b[0m \u001b[0msteps\u001b[0m \u001b[0;34m=\u001b[0m \u001b[0;34m[\u001b[0m\u001b[0;34m]\u001b[0m\u001b[0;34m\u001b[0m\u001b[0;34m\u001b[0m\u001b[0m\n\u001b[0;32m----> 3\u001b[0;31m \u001b[0msteps\u001b[0m\u001b[0;34m[\u001b[0m\u001b[0mn\u001b[0m\u001b[0;34m]\u001b[0m\u001b[0;34m\u001b[0m\u001b[0;34m\u001b[0m\u001b[0m\n\u001b[0m",
      "\u001b[0;31mIndexError\u001b[0m: list index out of range"
     ]
    }
   ],
   "source": [
    " n = 100\n",
    " steps = []\n",
    " steps[n]"
   ]
  },
  {
   "cell_type": "markdown",
   "metadata": {},
   "source": [
    "## 62. Unique Paths\n",
    "\n",
    "![image](https://assets.leetcode.com/uploads/2018/10/22/robot_maze.png)\n",
    "\n",
    "\n",
    "```py\n",
    "# Initialize a m*n array of identical element\n",
    "d = [[1] * n for _ in range(m)]\n",
    "```\n",
    "\n",
    "\n"
   ]
  },
  {
   "cell_type": "code",
   "execution_count": 152,
   "metadata": {},
   "outputs": [],
   "source": [
    "class Solution:\n",
    "    def uniquePaths(self, r: int, c: int) -> int:\n",
    "        if r == 1 or c ==1:\n",
    "            return 1\n",
    "        return  self.uniquePaths(r-1,c) + self.uniquePaths(r,c-1)\n",
    "        "
   ]
  },
  {
   "cell_type": "code",
   "execution_count": 165,
   "metadata": {},
   "outputs": [
    {
     "data": {
      "text/plain": [
       "715"
      ]
     },
     "execution_count": 165,
     "metadata": {},
     "output_type": "execute_result"
    }
   ],
   "source": [
    "c = Solution()\n",
    "c.uniquePaths(10,5)\n",
    "\n",
    "# Is also same as (10+5 -2)C(5-1) or (10+5 -2)C(10-1)"
   ]
  },
  {
   "cell_type": "code",
   "execution_count": 159,
   "metadata": {},
   "outputs": [],
   "source": [
    "class Solution:\n",
    "    def uniquePaths(self, r: int, c: int) -> int:\n",
    "        matrix = [ [ 1 for i in range(c) ] for j in range(r) ]\n",
    "        for ci in range(1,len(matrix)):\n",
    "            for ri in range(1,len(matrix[ci])):\n",
    "                matrix[ci][ri] = matrix[ci-1][ri] +  matrix[ci][ri-1] \n",
    "        return matrix[-1][-1]"
   ]
  },
  {
   "cell_type": "code",
   "execution_count": 163,
   "metadata": {},
   "outputs": [
    {
     "data": {
      "text/plain": [
       "48620"
      ]
     },
     "execution_count": 163,
     "metadata": {},
     "output_type": "execute_result"
    }
   ],
   "source": [
    "c = Solution()\n",
    "c.uniquePaths(10,10)"
   ]
  },
  {
   "cell_type": "markdown",
   "metadata": {},
   "source": [
    "What is the solution using combinatrics?"
   ]
  },
  {
   "cell_type": "markdown",
   "metadata": {},
   "source": [
    "# 198. House Robber"
   ]
  },
  {
   "cell_type": "code",
   "execution_count": 202,
   "metadata": {},
   "outputs": [],
   "source": [
    "# Recursive\n",
    "class Solution:\n",
    "    def rob(self, nums):\n",
    "        return self.robFrom(0,nums)\n",
    "\n",
    "    def robFrom(self, i, nums):\n",
    "        if i>= len(nums):\n",
    "            return 0\n",
    "        ans = max(self.robFrom(i + 1, nums), self.robFrom(i + 2, nums) + nums[i])\n",
    "        return ans"
   ]
  },
  {
   "cell_type": "code",
   "execution_count": 212,
   "metadata": {},
   "outputs": [
    {
     "data": {
      "text/plain": [
       "783"
      ]
     },
     "execution_count": 212,
     "metadata": {},
     "output_type": "execute_result"
    }
   ],
   "source": [
    "import random\n",
    "c = Solution()\n",
    "c.rob([random.randint(1, 90) for i in range(30) ])"
   ]
  },
  {
   "cell_type": "code",
   "execution_count": 213,
   "metadata": {},
   "outputs": [],
   "source": [
    "# Top-down Memoization\n",
    "class Solution:\n",
    "    def rob(self, nums):\n",
    "        self.memo = {}\n",
    "        return self.robFrom(0,nums)\n",
    "\n",
    "    def robFrom(self, i, nums):\n",
    "        if i>= len(nums):\n",
    "            return 0\n",
    "        if i in self.memo:\n",
    "            return self.memo[i]\n",
    "        ans = max(self.robFrom(i + 1, nums), self.robFrom(i + 2, nums) + nums[i])\n",
    "        \n",
    "        self.memo[i] = ans\n",
    "        return ans\n"
   ]
  },
  {
   "cell_type": "markdown",
   "metadata": {},
   "source": [
    "Time Complexity: O(N)\n",
    "Space Complexity: O(N)\n"
   ]
  },
  {
   "cell_type": "code",
   "execution_count": 214,
   "metadata": {},
   "outputs": [
    {
     "data": {
      "text/plain": [
       "838"
      ]
     },
     "execution_count": 214,
     "metadata": {},
     "output_type": "execute_result"
    }
   ],
   "source": [
    "import random\n",
    "c = Solution()\n",
    "c.rob([random.randint(1, 90) for i in range(30) ])"
   ]
  },
  {
   "cell_type": "code",
   "execution_count": 199,
   "metadata": {},
   "outputs": [],
   "source": [
    "# Bottom - up DP\n",
    "def rob(nums):\n",
    "        if len(nums) ==1:\n",
    "            return nums[0]\n",
    "        \n",
    "        if nums == 2:\n",
    "            return max(nums[0], nums[1])\n",
    "        \n",
    "        dp = [0 for i in range(len(nums))]\n",
    "        dp[0] = nums[0]\n",
    "        dp[1] = max(nums[0], nums[1])\n",
    "        for i in range(2,len(nums)):\n",
    "            dp[i] = max(nums[i]+dp[i-2], dp[i-1])\n",
    "        return dp[-1]"
   ]
  },
  {
   "cell_type": "code",
   "execution_count": 217,
   "metadata": {},
   "outputs": [
    {
     "data": {
      "text/plain": [
       "2677"
      ]
     },
     "execution_count": 217,
     "metadata": {},
     "output_type": "execute_result"
    }
   ],
   "source": [
    "rob([random.randint(1, 90) for i in range(100) ])"
   ]
  },
  {
   "cell_type": "markdown",
   "metadata": {},
   "source": [
    "Q) Two Sum"
   ]
  },
  {
   "cell_type": "code",
   "execution_count": 230,
   "metadata": {},
   "outputs": [],
   "source": [
    "def twoSum(nums, target):\n",
    "        h = {}\n",
    "        for  i,v in enumerate(nums):\n",
    "            h[v] = i\n",
    "        for i in range(len(nums)):\n",
    "            c = target - nums[i]\n",
    "            if c in h and h[c]!=i:\n",
    "                print(h)\n",
    "                return [i,h[c]]"
   ]
  },
  {
   "cell_type": "markdown",
   "metadata": {},
   "source": [
    "Q) Find all permutation of a given string"
   ]
  },
  {
   "cell_type": "code",
   "execution_count": 3,
   "metadata": {},
   "outputs": [
    {
     "name": "stdout",
     "output_type": "stream",
     "text": [
      "Initial string abc\n",
      "Resultant permutations ['abc', 'acb', 'bac', 'bca', 'cba', 'cab']\n"
     ]
    }
   ],
   "source": [
    "# Initialising string\n",
    "ini_str = \"abc\"\n",
    "\n",
    "# Printing initial string\n",
    "print(\"Initial string\", ini_str)\n",
    "\n",
    "# Finding all permutation\n",
    "result = []\n",
    "\n",
    "def permute(data, i, length):\n",
    "    if i == length:\n",
    "        result.append(''.join(data) )\n",
    "        #print(result)\n",
    "    else:\n",
    "        for j in range(i, length):\n",
    "            # swap\n",
    "            #print(\"Before Swapping\", data[i], data[j] )\n",
    "            data[i], data[j] = data[j], data[i]\n",
    "            #print(\"After Swapping\", data[i], data[j] )\n",
    "            \n",
    "            permute(data, i + 1, length)\n",
    "            data[i], data[j] = data[j], data[i]\n",
    "            \n",
    "permute(list(ini_str), 0, len(ini_str))\n",
    "\n",
    "# Printing result\n",
    "print(\"Resultant permutations\", str(result))\n"
   ]
  },
  {
   "cell_type": "markdown",
   "metadata": {},
   "source": [
    "118. Pascal's Triangle"
   ]
  },
  {
   "cell_type": "code",
   "execution_count": 7,
   "metadata": {},
   "outputs": [],
   "source": [
    "def generate(numRows):\n",
    "    res = [[1]]\n",
    "    for i in range(1,numRows):\n",
    "        temp = [0] + res[-1] + [0]\n",
    "        row = []\n",
    "        for j in range(len(res[-1])+1):\n",
    "            row.append(temp[j]+temp[j+1])\n",
    "        res.append(row)\n",
    "\n",
    "    return res\n"
   ]
  },
  {
   "cell_type": "code",
   "execution_count": 14,
   "metadata": {},
   "outputs": [
    {
     "name": "stdout",
     "output_type": "stream",
     "text": [
      "[1]\n",
      "[1, 1]\n",
      "[1, 2, 1]\n",
      "[1, 3, 3, 1]\n",
      "[1, 4, 6, 4, 1]\n"
     ]
    }
   ],
   "source": [
    "print(*generate(5), sep = '\\n')"
   ]
  },
  {
   "cell_type": "markdown",
   "metadata": {},
   "source": [
    "1137. N-th Tribonacci Number"
   ]
  },
  {
   "cell_type": "code",
   "execution_count": 17,
   "metadata": {},
   "outputs": [],
   "source": [
    "def tribonacci(n: int) -> int:\n",
    "    dp = [0 for i in range(n+1)]\n",
    "    if n == 0:\n",
    "        return 0\n",
    "    elif n == 2 or n == 1:\n",
    "        return 1\n",
    "    dp[0] = 0\n",
    "    dp[1] = 1\n",
    "    dp[2] = 1\n",
    "    for i in range(3, n+1):\n",
    "        dp[i] = dp[i-1] + dp[i-2] + dp[i-3]\n",
    "    return dp[n]"
   ]
  },
  {
   "cell_type": "code",
   "execution_count": 18,
   "metadata": {},
   "outputs": [
    {
     "data": {
      "text/plain": [
       "13"
      ]
     },
     "execution_count": 18,
     "metadata": {},
     "output_type": "execute_result"
    }
   ],
   "source": [
    "tribonacci(6)"
   ]
  },
  {
   "cell_type": "markdown",
   "metadata": {},
   "source": [
    "53. Maximum Subarray (Kadane's Algorithm)"
   ]
  },
  {
   "cell_type": "code",
   "execution_count": 21,
   "metadata": {},
   "outputs": [],
   "source": [
    "def maxSubArray(nums) -> int:\n",
    "    # Kadane's algorithm\n",
    "    maxS = nums[0]\n",
    "    curS = maxS\n",
    "    for i in range(1,len(nums)):\n",
    "        curS = max(nums[i], curS+nums[i])\n",
    "        maxS = max(maxS, curS)\n",
    "    return maxS"
   ]
  },
  {
   "cell_type": "code",
   "execution_count": 20,
   "metadata": {},
   "outputs": [
    {
     "data": {
      "text/plain": [
       "17"
      ]
     },
     "execution_count": 20,
     "metadata": {},
     "output_type": "execute_result"
    }
   ],
   "source": [
    "maxSubArray([1,-2,17])"
   ]
  },
  {
   "cell_type": "code",
   "execution_count": 23,
   "metadata": {},
   "outputs": [
    {
     "data": {
      "text/plain": [
       "array([0, 1, 2, 3])"
      ]
     },
     "execution_count": 23,
     "metadata": {},
     "output_type": "execute_result"
    }
   ],
   "source": [
    "import numpy as np\n",
    "x = np.arange(4)\n",
    "\n",
    "x"
   ]
  },
  {
   "cell_type": "code",
   "execution_count": 34,
   "metadata": {},
   "outputs": [],
   "source": [
    "xx = x.reshape(4,1)"
   ]
  },
  {
   "cell_type": "code",
   "execution_count": 32,
   "metadata": {},
   "outputs": [
    {
     "data": {
      "text/plain": [
       "array([[0],\n",
       "       [1],\n",
       "       [2],\n",
       "       [3]])"
      ]
     },
     "execution_count": 32,
     "metadata": {},
     "output_type": "execute_result"
    }
   ],
   "source": [
    "xx"
   ]
  },
  {
   "cell_type": "code",
   "execution_count": 35,
   "metadata": {},
   "outputs": [],
   "source": [
    "y = np.ones(5)"
   ]
  },
  {
   "cell_type": "code",
   "execution_count": 36,
   "metadata": {},
   "outputs": [
    {
     "data": {
      "text/plain": [
       "array([1., 1., 1., 1., 1.])"
      ]
     },
     "execution_count": 36,
     "metadata": {},
     "output_type": "execute_result"
    }
   ],
   "source": [
    "y"
   ]
  },
  {
   "cell_type": "code",
   "execution_count": 37,
   "metadata": {},
   "outputs": [
    {
     "data": {
      "text/plain": [
       "array([[1., 1., 1., 1.],\n",
       "       [1., 1., 1., 1.],\n",
       "       [1., 1., 1., 1.]])"
      ]
     },
     "execution_count": 37,
     "metadata": {},
     "output_type": "execute_result"
    }
   ],
   "source": [
    "np.ones((3,4))"
   ]
  },
  {
   "cell_type": "code",
   "execution_count": 38,
   "metadata": {},
   "outputs": [
    {
     "data": {
      "text/plain": [
       "(4,)"
      ]
     },
     "execution_count": 38,
     "metadata": {},
     "output_type": "execute_result"
    }
   ],
   "source": [
    "(4,)"
   ]
  },
  {
   "cell_type": "code",
   "execution_count": 40,
   "metadata": {},
   "outputs": [
    {
     "data": {
      "text/plain": [
       "(4,)"
      ]
     },
     "execution_count": 40,
     "metadata": {},
     "output_type": "execute_result"
    }
   ],
   "source": [
    "x.shape"
   ]
  },
  {
   "cell_type": "code",
   "execution_count": 1,
   "metadata": {},
   "outputs": [
    {
     "name": "stdout",
     "output_type": "stream",
     "text": [
      "Collecting pymc3\n",
      "  Downloading pymc3-3.11.4-py3-none-any.whl (869 kB)\n",
      "     |████████████████████████████████| 869 kB 7.7 MB/s            \n",
      "\u001b[?25hCollecting fastprogress>=0.2.0\n",
      "  Downloading fastprogress-1.0.0-py3-none-any.whl (12 kB)\n",
      "Requirement already satisfied: pandas>=0.24.0 in /Users/shreyasprasad/opt/anaconda3/lib/python3.8/site-packages (from pymc3) (1.2.4)\n",
      "Requirement already satisfied: scipy>=1.2.0 in /Users/shreyasprasad/opt/anaconda3/lib/python3.8/site-packages (from pymc3) (1.6.2)\n",
      "Requirement already satisfied: typing-extensions>=3.7.4 in /Users/shreyasprasad/opt/anaconda3/lib/python3.8/site-packages (from pymc3) (3.7.4.3)\n",
      "Collecting dill\n",
      "  Downloading dill-0.3.4-py2.py3-none-any.whl (86 kB)\n",
      "     |████████████████████████████████| 86 kB 12.4 MB/s            \n",
      "\u001b[?25hRequirement already satisfied: patsy>=0.5.1 in /Users/shreyasprasad/opt/anaconda3/lib/python3.8/site-packages (from pymc3) (0.5.1)\n",
      "Collecting theano-pymc==1.1.2\n",
      "  Downloading Theano-PyMC-1.1.2.tar.gz (1.8 MB)\n",
      "     |████████████████████████████████| 1.8 MB 15.9 MB/s            \n",
      "\u001b[?25h  Preparing metadata (setup.py) ... \u001b[?25ldone\n",
      "\u001b[?25hCollecting semver>=2.13.0\n",
      "  Downloading semver-2.13.0-py2.py3-none-any.whl (12 kB)\n",
      "Requirement already satisfied: numpy>=1.15.0 in /Users/shreyasprasad/opt/anaconda3/lib/python3.8/site-packages (from pymc3) (1.20.1)\n",
      "Collecting cachetools>=4.2.1\n",
      "  Downloading cachetools-4.2.4-py3-none-any.whl (10 kB)\n",
      "Collecting arviz>=0.11.0\n",
      "  Downloading arviz-0.11.4-py3-none-any.whl (1.6 MB)\n",
      "     |████████████████████████████████| 1.6 MB 12.7 MB/s            \n",
      "\u001b[?25hRequirement already satisfied: filelock in /Users/shreyasprasad/opt/anaconda3/lib/python3.8/site-packages (from theano-pymc==1.1.2->pymc3) (3.0.12)\n",
      "Requirement already satisfied: matplotlib>=3.0 in /Users/shreyasprasad/opt/anaconda3/lib/python3.8/site-packages (from arviz>=0.11.0->pymc3) (3.3.4)\n",
      "Collecting netcdf4\n",
      "  Downloading netCDF4-1.5.8-cp38-cp38-macosx_10_9_x86_64.whl (4.2 MB)\n",
      "     |████████████████████████████████| 4.2 MB 13.2 MB/s            \n",
      "\u001b[?25hRequirement already satisfied: packaging in /Users/shreyasprasad/opt/anaconda3/lib/python3.8/site-packages (from arviz>=0.11.0->pymc3) (20.9)\n",
      "Requirement already satisfied: setuptools>=38.4 in /Users/shreyasprasad/opt/anaconda3/lib/python3.8/site-packages (from arviz>=0.11.0->pymc3) (52.0.0.post20210125)\n",
      "Collecting xarray>=0.16.1\n",
      "  Downloading xarray-0.20.0-py3-none-any.whl (835 kB)\n",
      "     |████████████████████████████████| 835 kB 7.1 MB/s            \n",
      "\u001b[?25hRequirement already satisfied: python-dateutil>=2.7.3 in /Users/shreyasprasad/opt/anaconda3/lib/python3.8/site-packages (from pandas>=0.24.0->pymc3) (2.8.1)\n",
      "Requirement already satisfied: pytz>=2017.3 in /Users/shreyasprasad/opt/anaconda3/lib/python3.8/site-packages (from pandas>=0.24.0->pymc3) (2021.1)\n",
      "Requirement already satisfied: six in /Users/shreyasprasad/opt/anaconda3/lib/python3.8/site-packages (from patsy>=0.5.1->pymc3) (1.15.0)\n",
      "Requirement already satisfied: kiwisolver>=1.0.1 in /Users/shreyasprasad/opt/anaconda3/lib/python3.8/site-packages (from matplotlib>=3.0->arviz>=0.11.0->pymc3) (1.3.1)\n",
      "Requirement already satisfied: cycler>=0.10 in /Users/shreyasprasad/opt/anaconda3/lib/python3.8/site-packages (from matplotlib>=3.0->arviz>=0.11.0->pymc3) (0.10.0)\n",
      "Requirement already satisfied: pillow>=6.2.0 in /Users/shreyasprasad/opt/anaconda3/lib/python3.8/site-packages (from matplotlib>=3.0->arviz>=0.11.0->pymc3) (8.2.0)\n",
      "Requirement already satisfied: pyparsing!=2.0.4,!=2.1.2,!=2.1.6,>=2.0.3 in /Users/shreyasprasad/opt/anaconda3/lib/python3.8/site-packages (from matplotlib>=3.0->arviz>=0.11.0->pymc3) (2.4.7)\n",
      "Collecting cftime\n",
      "  Downloading cftime-1.5.1.1-cp38-cp38-macosx_10_9_x86_64.whl (213 kB)\n",
      "     |████████████████████████████████| 213 kB 9.0 MB/s            \n",
      "\u001b[?25hBuilding wheels for collected packages: theano-pymc\n",
      "  Building wheel for theano-pymc (setup.py) ... \u001b[?25ldone\n",
      "\u001b[?25h  Created wheel for theano-pymc: filename=Theano_PyMC-1.1.2-py3-none-any.whl size=1529946 sha256=014311aa2e0f82b591ae9e11aa706793dd2aa6e0a204f7795ec0e9070f53d75d\n",
      "  Stored in directory: /Users/shreyasprasad/Library/Caches/pip/wheels/0e/41/d2/82c7b771236f987def7fe2e51855cce22b270327f3fedec57c\n",
      "Successfully built theano-pymc\n",
      "Installing collected packages: cftime, xarray, netcdf4, theano-pymc, semver, fastprogress, dill, cachetools, arviz, pymc3\n",
      "Successfully installed arviz-0.11.4 cachetools-4.2.4 cftime-1.5.1.1 dill-0.3.4 fastprogress-1.0.0 netcdf4-1.5.8 pymc3-3.11.4 semver-2.13.0 theano-pymc-1.1.2 xarray-0.20.0\n"
     ]
    }
   ],
   "source": [
    "!pip install pymc3"
   ]
  },
  {
   "cell_type": "code",
   "execution_count": null,
   "metadata": {},
   "outputs": [],
   "source": []
  }
 ],
 "metadata": {
  "interpreter": {
   "hash": "44aac8fa55270aab16cf28b0bf1e5c8bf3de462e9a8a50d0b321a892ef2c99fa"
  },
  "kernelspec": {
   "display_name": "Python 3",
   "language": "python",
   "name": "python3"
  },
  "language_info": {
   "codemirror_mode": {
    "name": "ipython",
    "version": 3
   },
   "file_extension": ".py",
   "mimetype": "text/x-python",
   "name": "python",
   "nbconvert_exporter": "python",
   "pygments_lexer": "ipython3",
   "version": "3.8.8"
  }
 },
 "nbformat": 4,
 "nbformat_minor": 4
}
